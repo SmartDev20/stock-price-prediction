{
 "cells": [
  {
   "cell_type": "code",
   "execution_count": null,
   "id": "d6cbd06e",
   "metadata": {},
   "outputs": [],
   "source": [
    "import pandas as pd\n",
    "import numpy as np\n",
    "\n",
    "import matplotlib.pyplot as plt\n",
    "from matplotlib.pylab import rcParams\n",
    "\n",
    "from keras.models import Sequential\n",
    "from keras.layers import LSTM , Dropout , Dense\n",
    "\n",
    "from sklearn.preprocessing import MinMaxScaler\n",
    "\n",
    "rcParams['figure.figsize'] = 20 , 10\n",
    "%matplotlib inline"
   ]
  },
  {
   "cell_type": "code",
   "execution_count": null,
   "id": "e38e08f2",
   "metadata": {},
   "outputs": [],
   "source": [
    "df = pd.read_csv('./Data/NSE-Tata.csv')"
   ]
  },
  {
   "cell_type": "code",
   "execution_count": null,
   "id": "4cd4f515",
   "metadata": {},
   "outputs": [],
   "source": [
    "df.head()"
   ]
  },
  {
   "cell_type": "code",
   "execution_count": null,
   "id": "7db85780",
   "metadata": {},
   "outputs": [],
   "source": [
    "#Analyze the closing prices from dataframe:\n",
    "df['Date'] = pd.to_datetime(df.Date , format='%Y-%m-%d')\n",
    "df.index = df['Date']\n",
    "\n",
    "plt.figure(figsize=(16,8))\n",
    "plt.plot(df.Close , label='Close Price History')"
   ]
  },
  {
   "cell_type": "code",
   "execution_count": null,
   "id": "5a90a800",
   "metadata": {},
   "outputs": [],
   "source": [
    "df.head()"
   ]
  },
  {
   "cell_type": "code",
   "execution_count": null,
   "id": "c3aefcac",
   "metadata": {},
   "outputs": [],
   "source": [
    "# Sort the dataset on date time and filter “Date” and “Close” columns:\n",
    "data = df.sort_index(ascending=True , axis=0)\n",
    "new_data = pd.DataFrame(index=range(0,len(df)) , columns=['Date' , 'Close'])\n",
    "\n",
    "for i in range(0,len(df)) :\n",
    "    new_data['Date'][i] = data['Date'][i]\n",
    "    new_data['Close'][i] = data['Close'][i]"
   ]
  },
  {
   "cell_type": "code",
   "execution_count": null,
   "id": "f11db722",
   "metadata": {},
   "outputs": [],
   "source": [
    "# Normalize the dataset\n",
    "final_data = new_data.values\n",
    "train_data = final_data[0:987,:]\n",
    "valid_data = final_data[987:,:]\n",
    "\n",
    "new_data.index = new_data.Date\n",
    "new_data.drop('Date' , axis=1 , inplace=True)\n",
    "\n",
    "scaler = MinMaxScaler(feature_range=(0,1))\n",
    "scaled_data = scaler.fit_transform(new_data)\n",
    "\n",
    "x_train , y_train = [] , []\n",
    "\n",
    "for i in range(60 , len(train_data)) :\n",
    "    x_train.append(scaled_data[i-60:i , 0])\n",
    "    y_train.append(scaled_data[i , 0])\n",
    "    \n",
    "x_train = np.array(x_train)\n",
    "y_train = np.array(y_train)\n",
    "\n",
    "x_train = np.reshape(x_train , (x_train.shape[0] , x_train.shape[1] , 1))"
   ]
  },
  {
   "cell_type": "code",
   "execution_count": null,
   "id": "6693ebda",
   "metadata": {},
   "outputs": [],
   "source": [
    "# Build and train the LSTM model\n",
    "lstm_model = Sequential()\n",
    "lstm_model.add(LSTM(units=50 , return_sequences=True , input_shape=(x_train.shape[1] , 1)))\n",
    "lstm_model.add(LSTM(units=50))\n",
    "lstm_model.add(Dense(1))\n",
    "\n",
    "input_data = new_data[len(new_data) - len(valid_data) - 60:].values\n",
    "input_data = input_data.reshape(-1 , 1)\n",
    "input_data = scaler.transform(input_data)\n",
    "\n",
    "lstm_model.compile(loss='mean_squared_error' , optimizer='adam')\n",
    "lstm_model.fit(x_train , y_train , epochs=1 , batch_size=1 , verbose=2)"
   ]
  },
  {
   "cell_type": "code",
   "execution_count": null,
   "id": "3f1f4323",
   "metadata": {},
   "outputs": [],
   "source": [
    "# Take a sample of a dataset to make stock price predictions using the model:\n",
    "x_test = []\n",
    "for i in range(60 , input_data.shape[0]) :\n",
    "    x_test.append(input_data[i-60:i , 0])"
   ]
  },
  {
   "cell_type": "code",
   "execution_count": null,
   "id": "4fcb0ecb",
   "metadata": {},
   "outputs": [],
   "source": [
    "x_test = np.array(x_test)\n",
    "x_test = np.reshape(x_test , (x_test.shape[0] , x_test.shape[1] , 1))"
   ]
  },
  {
   "cell_type": "code",
   "execution_count": null,
   "id": "ff3c8868",
   "metadata": {},
   "outputs": [],
   "source": [
    "predicted_prices = lstm_model.predict(x_test)"
   ]
  },
  {
   "cell_type": "code",
   "execution_count": null,
   "id": "b7c5b9f0",
   "metadata": {},
   "outputs": [],
   "source": [
    "predicted_prices = scaler.inverse_transform(predicted_prices)"
   ]
  },
  {
   "cell_type": "code",
   "execution_count": null,
   "id": "f388d20d",
   "metadata": {},
   "outputs": [],
   "source": [
    "# Visualize the predicted stock costs with actual stock costs:\n",
    "train_data = new_data[:987]\n",
    "valid_data = new_data[987:]\n",
    "valid_data['Prediction'] = predicted_prices\n",
    "plt.figure(figsize=(16,8))\n",
    "plt.plot(train_data['Close'])\n",
    "plt.plot(valid_data[['Close',\"Prediction\"]])"
   ]
  },
  {
   "cell_type": "code",
   "execution_count": null,
   "id": "b9a740e3",
   "metadata": {},
   "outputs": [],
   "source": [
    "lstm_model.save(\"saved_model.h5\")"
   ]
  },
  {
   "cell_type": "code",
   "execution_count": null,
   "id": "e966ddd8",
   "metadata": {},
   "outputs": [],
   "source": []
  }
 ],
 "metadata": {
  "kernelspec": {
   "display_name": "Python 3 (ipykernel)",
   "language": "python",
   "name": "python3"
  },
  "language_info": {
   "codemirror_mode": {
    "name": "ipython",
    "version": 3
   },
   "file_extension": ".py",
   "mimetype": "text/x-python",
   "name": "python",
   "nbconvert_exporter": "python",
   "pygments_lexer": "ipython3",
   "version": "3.8.10"
  }
 },
 "nbformat": 4,
 "nbformat_minor": 5
}
